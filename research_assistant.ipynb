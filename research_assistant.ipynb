{
 "cells": [
  {
   "cell_type": "code",
   "execution_count": null,
   "id": "4063b61c",
   "metadata": {},
   "outputs": [],
   "source": []
  },
  {
   "cell_type": "code",
   "execution_count": 2,
   "id": "d6974bd3",
   "metadata": {},
   "outputs": [],
   "source": [
    "from agents import Agent, WebSearchTool, trace, Runner, gen_trace_id, function_tool\n",
    "from agents.model_settings import ModelSettings\n",
    "from pydantic import BaseModel, Field\n",
    "from dotenv import load_dotenv\n",
    "import asyncio\n",
    "import smtplib\n",
    "import os\n",
    "from typing import Dict\n",
    "from IPython.display import display, Markdown"
   ]
  },
  {
   "cell_type": "code",
   "execution_count": 3,
   "id": "3e4e0462",
   "metadata": {},
   "outputs": [
    {
     "data": {
      "text/plain": [
       "True"
      ]
     },
     "execution_count": 3,
     "metadata": {},
     "output_type": "execute_result"
    }
   ],
   "source": [
    "load_dotenv(override=True)"
   ]
  },
  {
   "cell_type": "code",
   "execution_count": null,
   "id": "11da8e96",
   "metadata": {},
   "outputs": [],
   "source": [
    "INSTRUCTIONS = (\n",
    "    \"You are a research assistant. Given a search term, you search the web for that term and \"\n",
    "    \"produce a concise summary of the results. The summary must 2-3 paragraphs and less than 300 \"\n",
    "    \"words. Capture the main points. Write succintly, no need to have complete sentences or good \"\n",
    "    \"grammar. This will be consumed by someone synthesizing a report, so its vital you capture the \"\n",
    "    \"essence and ignore any fluff. Do not include any additional commentary other than the summary itself.\"\n",
    ")\n",
    "\n",
    "search_agent = Agent(\n",
    "    name=\"Search agent\",\n",
    "    instructions=INSTRUCTIONS,\n",
    "    tools=[WebSearchTool(search_context_size=\"low\")],\n",
    "    model=\"gpt-4o-mini\",\n",
    "    model_settings=ModelSettings(tool_choice=\"required\"),\n",
    ")"
   ]
  },
  {
   "cell_type": "code",
   "execution_count": null,
   "id": "73fc8c97",
   "metadata": {},
   "outputs": [],
   "source": [
    "# PLANNER\n",
    "NUM_SEARCHES = 3\n",
    "\n",
    "INSTRUCTIONS = f\"You are a helpful research assistant. Given a query, come up with a set of web searches \\\n",
    "to perform to best answer the query. Output {NUM_SEARCHES} terms to query for.\"\n",
    "\n",
    "\n",
    "class SearchItem (BaseModel):\n",
    "    reason : str = Field(description=\"Your reasoning for why this search is important to the query\")\n",
    "\n",
    "    query : str = Field(description=\"The search query you will use to search the web\")\n",
    "\n",
    "\n",
    "class SearchPlan(BaseModel):\n",
    "    searches : list[SearchItem] = Field(description=\"A list of web searches to perform to best answer the query.\")\n",
    "\n",
    "planner_agent = Agent(\n",
    "    name=\"Planner\",\n",
    "    instructions=INSTRUCTIONS,\n",
    "    model= \"gpt-4o-mini\",\n",
    "    output_type=SearchPlan,\n",
    ")"
   ]
  },
  {
   "cell_type": "code",
   "execution_count": 4,
   "id": "b7e3626e",
   "metadata": {},
   "outputs": [],
   "source": [
    "# EMAIL TOOL\n",
    "@function_tool\n",
    "def push(subject: str, message: str) -> Dict[str, str]:\n",
    "    # Load environment variables inside the function\n",
    "    push_mail = os.getenv(\"CLONE_EMAIL\")\n",
    "    push_password = os.getenv(\"CLONE_PASSWORD\")    \n",
    "    if not push_mail or not push_password:\n",
    "        print(\"Error: CLONE_EMAIL or CLONE_PASSWORD not found in environment variables\")\n",
    "        print(\"Please create a .env file with CLONE_EMAIL and CLONE_PASSWORD\")\n",
    "        return\n",
    "    try:\n",
    "        mail=smtplib.SMTP(\"smtp.gmail.com\")\n",
    "        mail.starttls()\n",
    "        mail.login(user=push_mail, password=push_password)\n",
    "        mail.sendmail(\n",
    "            from_addr=push_mail, \n",
    "            to_addrs=\"rumesefia@gmail.com\", \n",
    "            msg=f\"Subject:{subject}\\n\\n{message}\"\n",
    "            )\n",
    "        mail.quit()\n",
    "        status = \"Email sent successfully\"\n",
    "    except Exception as e:\n",
    "        status = \"Error sending email: {e}\"\n",
    "    finally:\n",
    "        return {\"status\": status}"
   ]
  },
  {
   "cell_type": "code",
   "execution_count": 5,
   "id": "133cd5ab",
   "metadata": {},
   "outputs": [
    {
     "data": {
      "text/plain": [
       "FunctionTool(name='push', description='', params_json_schema={'properties': {'subject': {'title': 'Subject', 'type': 'string'}, 'message': {'title': 'Message', 'type': 'string'}}, 'required': ['subject', 'message'], 'title': 'push_args', 'type': 'object', 'additionalProperties': False}, on_invoke_tool=<function function_tool.<locals>._create_function_tool.<locals>._on_invoke_tool at 0x0000025D0B838E00>, strict_json_schema=True, is_enabled=True)"
      ]
     },
     "execution_count": 5,
     "metadata": {},
     "output_type": "execute_result"
    }
   ],
   "source": [
    "push"
   ]
  },
  {
   "cell_type": "code",
   "execution_count": 8,
   "id": "6d645443",
   "metadata": {},
   "outputs": [],
   "source": [
    "INSTRUCTIONS = \"\"\"You are able to send a nicely formatted HTML email based on a detailed report.\n",
    "You will be provided with a detailed report. You should use your tool to send one email, providing the \n",
    "report converted into clean, well presented HTML with an appropriate subject line.\"\"\"\n",
    "\n",
    "email_agent = Agent(\n",
    "    name=\"Email Agent\",\n",
    "    instructions=INSTRUCTIONS,\n",
    "    model=\"gpt-4o-mini\",\n",
    "    tools=[push],\n",
    "    handoff_description= \"Send a formatted email of the report\"\n",
    ")"
   ]
  },
  {
   "cell_type": "code",
   "execution_count": null,
   "id": "8a0a497d",
   "metadata": {},
   "outputs": [],
   "source": [
    "INSTRUCTIONS = (\n",
    "    \"You are a senior researcher tasked with writing a cohesive report for a research query. \"\n",
    "    \"You will be provided with the original query, and some initial research done by a research assistant.\\n\"\n",
    "    \"You should first come up with an outline for the report that describes the structure and \"\n",
    "    \"flow of the report. Then, generate the report and return that as your final output.\\n\"\n",
    "    \"The final output should be in markdown format, and it should be lengthy and detailed. Aim \"\n",
    "    \"for 5-10 pages of content, at least 1000 words.\"\n",
    ")\n",
    "\n",
    "\n",
    "class ReportData(BaseModel):\n",
    "    short_summary: str = Field(description=\"A short 2-3 sentence summary of the findings.\")\n",
    "\n",
    "    markdown_report: str = Field(description=\"The final report\")\n",
    "\n",
    "    follow_up_questions: list[str] = Field(description=\"Suggested topics to research further\")\n",
    "\n",
    "\n",
    "writer_agent = Agent(\n",
    "    name=\"WriterAgent\",\n",
    "    instructions=INSTRUCTIONS,\n",
    "    model=\"gpt-4o-mini\",\n",
    "    output_type=ReportData,\n",
    "    handoff_description=\"Write a detailed report based on the research findings\"\n",
    ")\n"
   ]
  }
 ],
 "metadata": {
  "kernelspec": {
   "display_name": "Python 3",
   "language": "python",
   "name": "python3"
  },
  "language_info": {
   "codemirror_mode": {
    "name": "ipython",
    "version": 3
   },
   "file_extension": ".py",
   "mimetype": "text/x-python",
   "name": "python",
   "nbconvert_exporter": "python",
   "pygments_lexer": "ipython3",
   "version": "3.13.5"
  }
 },
 "nbformat": 4,
 "nbformat_minor": 5
}
